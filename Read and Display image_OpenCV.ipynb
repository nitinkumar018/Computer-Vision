{
 "cells": [
  {
   "cell_type": "code",
   "execution_count": 1,
   "id": "3296b51c",
   "metadata": {},
   "outputs": [],
   "source": [
    "#! pip install opencv-python"
   ]
  },
  {
   "cell_type": "code",
   "execution_count": 2,
   "id": "88754d30",
   "metadata": {},
   "outputs": [],
   "source": [
    "import cv2  # import opencv-python lib. "
   ]
  },
  {
   "cell_type": "code",
   "execution_count": 3,
   "id": "0337efc9",
   "metadata": {},
   "outputs": [
    {
     "data": {
      "text/plain": [
       "<function imread>"
      ]
     },
     "execution_count": 3,
     "metadata": {},
     "output_type": "execute_result"
    }
   ],
   "source": [
    "cv2.imread"
   ]
  },
  {
   "cell_type": "code",
   "execution_count": 4,
   "id": "ed9fb8a4",
   "metadata": {},
   "outputs": [
    {
     "data": {
      "text/plain": [
       "'C:\\\\Users\\\\nitin\\\\Computer Vision'"
      ]
     },
     "execution_count": 4,
     "metadata": {},
     "output_type": "execute_result"
    }
   ],
   "source": [
    "pwd # present working directory"
   ]
  },
  {
   "cell_type": "code",
   "execution_count": 5,
   "id": "b2465397",
   "metadata": {},
   "outputs": [],
   "source": [
    "image=cv2.imread(\"cat.jpg\")  # imread func reads the cat image using pixel values"
   ]
  },
  {
   "cell_type": "code",
   "execution_count": 6,
   "id": "3f1126bc",
   "metadata": {},
   "outputs": [
    {
     "data": {
      "text/plain": [
       "array([[[168, 174, 187],\n",
       "        [167, 173, 186],\n",
       "        [165, 171, 184],\n",
       "        ...,\n",
       "        [202, 206, 207],\n",
       "        [202, 206, 207],\n",
       "        [202, 206, 207]],\n",
       "\n",
       "       [[167, 173, 186],\n",
       "        [167, 173, 186],\n",
       "        [165, 171, 184],\n",
       "        ...,\n",
       "        [202, 206, 207],\n",
       "        [202, 206, 207],\n",
       "        [202, 206, 207]],\n",
       "\n",
       "       [[167, 173, 186],\n",
       "        [167, 173, 186],\n",
       "        [166, 172, 185],\n",
       "        ...,\n",
       "        [202, 206, 207],\n",
       "        [202, 206, 207],\n",
       "        [202, 206, 207]],\n",
       "\n",
       "       ...,\n",
       "\n",
       "       [[217, 223, 212],\n",
       "        [217, 223, 212],\n",
       "        [217, 223, 212],\n",
       "        ...,\n",
       "        [214, 215, 206],\n",
       "        [211, 214, 205],\n",
       "        [211, 214, 205]],\n",
       "\n",
       "       [[217, 223, 212],\n",
       "        [217, 223, 212],\n",
       "        [217, 223, 212],\n",
       "        ...,\n",
       "        [211, 212, 203],\n",
       "        [209, 212, 203],\n",
       "        [209, 212, 203]],\n",
       "\n",
       "       [[217, 223, 212],\n",
       "        [217, 223, 212],\n",
       "        [217, 223, 212],\n",
       "        ...,\n",
       "        [209, 210, 201],\n",
       "        [210, 211, 202],\n",
       "        [210, 211, 202]]], dtype=uint8)"
      ]
     },
     "execution_count": 6,
     "metadata": {},
     "output_type": "execute_result"
    }
   ],
   "source": [
    "image    # 3-D array"
   ]
  },
  {
   "cell_type": "code",
   "execution_count": 7,
   "id": "8436dfbe",
   "metadata": {},
   "outputs": [
    {
     "data": {
      "text/plain": [
       "numpy.ndarray"
      ]
     },
     "execution_count": 7,
     "metadata": {},
     "output_type": "execute_result"
    }
   ],
   "source": [
    "type(image)"
   ]
  },
  {
   "cell_type": "code",
   "execution_count": 8,
   "id": "252ef336",
   "metadata": {},
   "outputs": [
    {
     "data": {
      "text/plain": [
       "(901, 1200, 3)"
      ]
     },
     "execution_count": 8,
     "metadata": {},
     "output_type": "execute_result"
    }
   ],
   "source": [
    "image.shape  # Height, Width, no. of layers in the image (3 layers: bgr i.e. blue, green, red)"
   ]
  },
  {
   "cell_type": "code",
   "execution_count": 9,
   "id": "a30a1a5e",
   "metadata": {},
   "outputs": [
    {
     "data": {
      "text/plain": [
       "3243600"
      ]
     },
     "execution_count": 9,
     "metadata": {},
     "output_type": "execute_result"
    }
   ],
   "source": [
    "901*1200*3  # total no. of pixels in cat image"
   ]
  },
  {
   "cell_type": "code",
   "execution_count": 10,
   "id": "753181bc",
   "metadata": {},
   "outputs": [
    {
     "name": "stdout",
     "output_type": "stream",
     "text": [
      "height:901\n",
      "width:1200\n",
      "channels:3\n"
     ]
    }
   ],
   "source": [
    "print(\"height:{}\".format(image.shape[0]))\n",
    "print(\"width:{}\".format(image.shape[1]))\n",
    "print(\"channels:{}\".format(image.shape[2]))"
   ]
  },
  {
   "cell_type": "code",
   "execution_count": 11,
   "id": "cc6e6415",
   "metadata": {},
   "outputs": [
    {
     "data": {
      "text/plain": [
       "array([[168, 174, 187],\n",
       "       [167, 173, 186],\n",
       "       [165, 171, 184],\n",
       "       ...,\n",
       "       [202, 206, 207],\n",
       "       [202, 206, 207],\n",
       "       [202, 206, 207]], dtype=uint8)"
      ]
     },
     "execution_count": 11,
     "metadata": {},
     "output_type": "execute_result"
    }
   ],
   "source": [
    "image[0] # displays pixel values wrt height of the image"
   ]
  },
  {
   "cell_type": "code",
   "execution_count": 12,
   "id": "389a5c8e",
   "metadata": {},
   "outputs": [],
   "source": [
    "# visualize the image\n",
    "# cat image is saved in var. image\n",
    "cv2.imshow(\"myimage\",image)  # load cat image into cv2 window\n",
    "cv2.waitKey()              # we can pass for how many seconds we can keep the image on screen \n",
    "cv2.destroyAllWindows()    # it will close the cv2 window automatically"
   ]
  },
  {
   "cell_type": "code",
   "execution_count": 13,
   "id": "2f93e97d",
   "metadata": {},
   "outputs": [],
   "source": [
    "cv2.imshow(\"myimage\",image)\n",
    "cv2.waitKey(10000)         # keep the image for 10 sec. on the screen\n",
    "cv2.destroyAllWindows()"
   ]
  },
  {
   "cell_type": "code",
   "execution_count": 14,
   "id": "d2a9f4ba",
   "metadata": {},
   "outputs": [
    {
     "data": {
      "text/plain": [
       "True"
      ]
     },
     "execution_count": 14,
     "metadata": {},
     "output_type": "execute_result"
    }
   ],
   "source": [
    "cv2.imwrite(\"new_cat.jpg\",image) # after reading the image, we can write the image to a new file"
   ]
  },
  {
   "cell_type": "code",
   "execution_count": 15,
   "id": "8cecc7b1",
   "metadata": {},
   "outputs": [],
   "source": [
    "image=cv2.imread(\"cat.jpg\")"
   ]
  },
  {
   "cell_type": "code",
   "execution_count": 16,
   "id": "f1df6424",
   "metadata": {},
   "outputs": [],
   "source": [
    "cv2.imshow(\"myimage1\",image)   # load cat image into cv2 window\n",
    "cv2.waitKey()\n",
    "cv2.destroyAllWindows()"
   ]
  },
  {
   "cell_type": "code",
   "execution_count": 17,
   "id": "dfd3a3c6",
   "metadata": {},
   "outputs": [
    {
     "data": {
      "text/plain": [
       "array([168, 174, 187], dtype=uint8)"
      ]
     },
     "execution_count": 17,
     "metadata": {},
     "output_type": "execute_result"
    }
   ],
   "source": [
    "image[0,0]   # pixel values of cat image at location (0,0) i.e. extreme top left position"
   ]
  },
  {
   "cell_type": "code",
   "execution_count": 18,
   "id": "9c770d66",
   "metadata": {},
   "outputs": [],
   "source": [
    "(b,g,r)=image[0,0] # opencv lib. reads the image in the format of b,g,r "
   ]
  },
  {
   "cell_type": "code",
   "execution_count": 19,
   "id": "b2f7025e",
   "metadata": {},
   "outputs": [
    {
     "data": {
      "text/plain": [
       "168"
      ]
     },
     "execution_count": 19,
     "metadata": {},
     "output_type": "execute_result"
    }
   ],
   "source": [
    "b"
   ]
  },
  {
   "cell_type": "code",
   "execution_count": 20,
   "id": "5d5d316e",
   "metadata": {},
   "outputs": [
    {
     "data": {
      "text/plain": [
       "174"
      ]
     },
     "execution_count": 20,
     "metadata": {},
     "output_type": "execute_result"
    }
   ],
   "source": [
    "g"
   ]
  },
  {
   "cell_type": "code",
   "execution_count": 21,
   "id": "1844eb2a",
   "metadata": {},
   "outputs": [
    {
     "data": {
      "text/plain": [
       "187"
      ]
     },
     "execution_count": 21,
     "metadata": {},
     "output_type": "execute_result"
    }
   ],
   "source": [
    "r"
   ]
  },
  {
   "cell_type": "code",
   "execution_count": 22,
   "id": "4113bbc7",
   "metadata": {},
   "outputs": [
    {
     "name": "stdout",
     "output_type": "stream",
     "text": [
      "Pixel at (0,0) - Red:187 Green:174 Blue:168\n"
     ]
    }
   ],
   "source": [
    "#the format in which we can see the image is rgb. So,change the format from bgr to rgb\n",
    "print(\"Pixel at (0,0) - Red:{} Green:{} Blue:{}\".format(r,g,b)) "
   ]
  },
  {
   "cell_type": "code",
   "execution_count": 23,
   "id": "b0b2aae9",
   "metadata": {},
   "outputs": [
    {
     "data": {
      "text/plain": [
       "array([134, 170, 224], dtype=uint8)"
      ]
     },
     "execution_count": 23,
     "metadata": {},
     "output_type": "execute_result"
    }
   ],
   "source": [
    "image[400,400]  # pixel values of image at location (400,400)"
   ]
  },
  {
   "cell_type": "code",
   "execution_count": 24,
   "id": "eae8882e",
   "metadata": {},
   "outputs": [
    {
     "name": "stdout",
     "output_type": "stream",
     "text": [
      "Pixel at (0,0) - Red:255, Green:255, Blue:0\n"
     ]
    }
   ],
   "source": [
    "# slicing (0th to 25th row, 0th to 25th column)\n",
    "image[0:25,0:25]=(0,255,255) # pixel value of green & red colors = 255 each, combination of green & red is yellow \n",
    "(b,g,r)=image[0,0]  # yellow color is at the top left corner\n",
    "print(\"Pixel at (0,0) - Red:{}, Green:{}, Blue:{}\".format(r,g,b))"
   ]
  },
  {
   "cell_type": "code",
   "execution_count": 25,
   "id": "0887167c",
   "metadata": {},
   "outputs": [],
   "source": [
    "cv2.imshow(\"output\",image)  # load cat image into cv2 window\n",
    "cv2.waitKey(10000)          # 10 sec\n",
    "cv2.destroyAllWindows()"
   ]
  },
  {
   "cell_type": "code",
   "execution_count": 26,
   "id": "02681c45",
   "metadata": {},
   "outputs": [
    {
     "name": "stdout",
     "output_type": "stream",
     "text": [
      "Pixel at (0,0) - Red:255, Green:255, Blue:255\n"
     ]
    }
   ],
   "source": [
    "# slicing (0th to 25th row, 0th to 25th column)\n",
    "image[0:25,0:25]=(255,255,255) # pixel value of blue,green & red colors = 255 each, combination of blue, green & red is white \n",
    "(b,g,r)=image[0,0]  # white color is at the top left corner\n",
    "print(\"Pixel at (0,0) - Red:{}, Green:{}, Blue:{}\".format(r,g,b))"
   ]
  },
  {
   "cell_type": "code",
   "execution_count": 27,
   "id": "f2f04558",
   "metadata": {},
   "outputs": [],
   "source": [
    "cv2.imshow(\"output\",image)  # load cat image into cv2 window\n",
    "cv2.waitKey(10000)          # 10 sec\n",
    "cv2.destroyAllWindows()"
   ]
  },
  {
   "cell_type": "code",
   "execution_count": 28,
   "id": "6292e20e",
   "metadata": {},
   "outputs": [
    {
     "name": "stdout",
     "output_type": "stream",
     "text": [
      "Pixel at (0,0) - Red:0, Green:0, Blue:0\n"
     ]
    }
   ],
   "source": [
    "# slicing (0th to 25th row, 0th to 25th column)\n",
    "image[0:25,0:25]=(0,0,0) # pixel value of blue,green & red colors = 0 each, so, black color is the final result\n",
    "(b,g,r)=image[0,0]  # black color is at the top left corner\n",
    "print(\"Pixel at (0,0) - Red:{}, Green:{}, Blue:{}\".format(r,g,b))"
   ]
  },
  {
   "cell_type": "code",
   "execution_count": 29,
   "id": "d887337e",
   "metadata": {},
   "outputs": [],
   "source": [
    "cv2.imshow(\"output\",image)  # load cat image into cv2 window\n",
    "cv2.waitKey(10000)          # 10 sec\n",
    "cv2.destroyAllWindows()"
   ]
  },
  {
   "cell_type": "code",
   "execution_count": 30,
   "id": "9f3f2eda",
   "metadata": {},
   "outputs": [
    {
     "name": "stdout",
     "output_type": "stream",
     "text": [
      "Pixel at (0,0) - Red:0, Green:0, Blue:255\n"
     ]
    }
   ],
   "source": [
    "# slicing (0th to 25th row, 0th to 25th column)\n",
    "image[0:25,0:25]=(255,0,0) # pixel value of blue color= 255, so, blue color is the final result\n",
    "(b,g,r)=image[0,0]  # blue color is at the top left corner\n",
    "print(\"Pixel at (0,0) - Red:{}, Green:{}, Blue:{}\".format(r,g,b))"
   ]
  },
  {
   "cell_type": "code",
   "execution_count": 31,
   "id": "229b5a8c",
   "metadata": {},
   "outputs": [],
   "source": [
    "cv2.imshow(\"output\",image)  # load cat image into cv2 window\n",
    "cv2.waitKey(10000)          # 10 sec\n",
    "cv2.destroyAllWindows()"
   ]
  },
  {
   "cell_type": "code",
   "execution_count": null,
   "id": "fb51a166",
   "metadata": {},
   "outputs": [],
   "source": []
  }
 ],
 "metadata": {
  "kernelspec": {
   "display_name": "Python 3 (ipykernel)",
   "language": "python",
   "name": "python3"
  },
  "language_info": {
   "codemirror_mode": {
    "name": "ipython",
    "version": 3
   },
   "file_extension": ".py",
   "mimetype": "text/x-python",
   "name": "python",
   "nbconvert_exporter": "python",
   "pygments_lexer": "ipython3",
   "version": "3.9.13"
  }
 },
 "nbformat": 4,
 "nbformat_minor": 5
}
